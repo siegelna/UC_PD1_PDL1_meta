{
 "cells": [
  {
   "cell_type": "code",
   "execution_count": 1,
   "metadata": {
    "vscode": {
     "languageId": "r"
    }
   },
   "outputs": [],
   "source": [
    "suppressPackageStartupMessages({\n",
    "    library(Seurat)\n",
    "    library(dplyr)\n",
    "    library(tidyr)\n",
    "    library(openxlsx)\n",
    "})"
   ]
  },
  {
   "cell_type": "code",
   "execution_count": 2,
   "metadata": {
    "vscode": {
     "languageId": "r"
    }
   },
   "outputs": [],
   "source": [
    "source(\"scTools/R/frequency_table.r\")"
   ]
  },
  {
   "cell_type": "code",
   "execution_count": 5,
   "metadata": {
    "vscode": {
     "languageId": "r"
    }
   },
   "outputs": [
    {
     "name": "stderr",
     "output_type": "stream",
     "text": [
      "Warning message in value[[3L]](cond):\n",
      "“Error applying filter column: PDCD1 - No cells found”\n",
      "Warning message in value[[3L]](cond):\n",
      "“Error applying filter column: PDCD1 - No cells found”\n",
      "Warning message in value[[3L]](cond):\n",
      "“Error applying filter column: PDCD1 - No cells found”\n",
      "Warning message in value[[3L]](cond):\n",
      "“Error applying filter column: PDCD1 - No cells found”\n",
      "Warning message in value[[3L]](cond):\n",
      "“Error applying filter column: CD274 - No cells found”\n",
      "Warning message in value[[3L]](cond):\n",
      "“Error applying filter column: CD274 - No cells found”\n",
      "Warning message in value[[3L]](cond):\n",
      "“Error applying filter column: CD274 - No cells found”\n",
      "Warning message in value[[3L]](cond):\n",
      "“Error applying filter column: CD274 - No cells found”\n",
      "Warning message in value[[3L]](cond):\n",
      "“Error applying filter column: CD274 - No cells found”\n"
     ]
    }
   ],
   "source": [
    "# Load data 1: UC_colon_Imm_scRNAseq_SCP259_2\n",
    "data1 <- get(load(\"data/UC_colon_Imm_scRNAseq_SCP259_2.rda\"))\n",
    "meta <- data1@meta.data\n",
    "data1@meta.data$merge <- paste(meta$Subject, meta$Health, sep = \"_\")\n",
    "\n",
    "seurat_object <- data1\n",
    "meta.col <- \"merge\"\n",
    "group <- unique(data1@meta.data$merge)\n",
    "gene_name <- c(\"PD1\", \"PDL1\")\n",
    "filter_column <- c(\"PDCD1\", \"CD274\")\n",
    "ident <- \"monaco.fine\"\n",
    "\n",
    "UC_colon_Imm_scRNAseq_SCP259 <- frequency_table(seurat_object = seurat_object,\n",
    "                          meta.col = meta.col,\n",
    "                          group = group,\n",
    "                          gene_name = gene_name,\n",
    "                          filter_column = filter_column,\n",
    "                          ident = ident)\n",
    "UC_colon_Imm_scRNAseq_SCP259 <- UC_colon_Imm_scRNAseq_SCP259 %>%\n",
    "    separate_wider_delim(Group, \"_\", names = c(\"SubjectID\", \"Group\"))"
   ]
  },
  {
   "cell_type": "code",
   "execution_count": 6,
   "metadata": {
    "vscode": {
     "languageId": "r"
    }
   },
   "outputs": [],
   "source": [
    "# Data 2: GSE189754_UC_Colon\n",
    "## No subject IDs\n",
    "data2 <- get(load(\"data/GSE189754_UC_Colon.rda\")) \n",
    "\n",
    "seurat_object <- data2 \n",
    "meta.col <- \"Type\" \n",
    "group <- c(\"Inflammed\", \"Noninflammed\", \"Control\") \n",
    "gene_name <- c(\"PD1\", \"PDL1\")\n",
    "filter_column <- c(\"PDCD1\", \"CD274\") \n",
    "ident <- \"monaco.fine\"\n",
    "\n",
    "# Generate frequency table\n",
    "GSE189754_UC_Colon <- frequency_table(seurat_object = seurat_object,\n",
    "                          meta.col = meta.col,\n",
    "                          group = group,\n",
    "                          gene_name = gene_name,\n",
    "                          filter_column = filter_column,\n",
    "                          ident = ident)\n",
    "                          \n",
    "GSE189754_UC_Colon$Group[GSE189754_UC_Colon$Group == \"Control\"] <- \"Healthy\"\n",
    "GSE189754_UC_Colon$Group[GSE189754_UC_Colon$Group == \"Inflammed\"] <- \"Inflamed\"\n",
    "GSE189754_UC_Colon$Group[GSE189754_UC_Colon$Group == \"Noninflammed\"] <- \"Non-inflamed\""
   ]
  },
  {
   "cell_type": "code",
   "execution_count": 7,
   "metadata": {
    "vscode": {
     "languageId": "r"
    }
   },
   "outputs": [],
   "source": [
    "# Data 3: PBMC UC_PBMC_Rectum_CITEseq_GSE228165\n",
    "data3 <- get(load(\"data/UC_PBMC_Rectum_CITEseq_GSE228165.Rda\")) \n",
    "meta <- data3@meta.data\n",
    "data3@meta.data$merge <- paste(meta$patient, meta$responder, sep = \"_\")\n",
    "data3 <- subset(data3, tissue == \"PBMC\")\n",
    "\n",
    "seurat_object <- data3\n",
    "meta.col <- \"merge\" \n",
    "group <- unique(data3@meta.data$merge)\n",
    "gene_name <- c(\"PD1\", \"PDL1\")\n",
    "filter_column <- c(\"PDCD1\", \"CD274\") \n",
    "ident <- \"monaco.fine\"\n",
    "\n",
    "# Generate frequency table\n",
    "UC_PBMC_CITEseq_GSE228165 <- frequency_table(seurat_object = seurat_object,\n",
    "                          meta.col = meta.col,\n",
    "                          group = group,\n",
    "                          gene_name = gene_name,\n",
    "                          filter_column = filter_column,\n",
    "                          ident = ident)\n",
    "UC_PBMC_CITEseq_GSE228165 <- UC_PBMC_CITEseq_GSE228165 %>%\n",
    "    separate_wider_delim(Group, \"_\", names = c(\"SubjectID\", \"Group\"))\n",
    "\n",
    "UC_PBMC_CITEseq_GSE228165$Group[UC_PBMC_CITEseq_GSE228165$Group == \"R\"] <- \"Vedolizumab Responder\"\n",
    "UC_PBMC_CITEseq_GSE228165$Group[UC_PBMC_CITEseq_GSE228165$Group == \"N\"] <- \"Vedolizumab Non-responder\""
   ]
  },
  {
   "cell_type": "code",
   "execution_count": 8,
   "metadata": {
    "vscode": {
     "languageId": "r"
    }
   },
   "outputs": [],
   "source": [
    "# Data 3: PBMC UC_PBMC_Rectum_CITEseq_GSE228165\n",
    "data3 <- get(load(\"data/UC_PBMC_Rectum_CITEseq_GSE228165.Rda\")) \n",
    "meta <- data3@meta.data\n",
    "data3@meta.data$merge <- paste(meta$patient, meta$responder, sep = \"_\")\n",
    "data3 <- subset(data3, tissue == \"Rectum\")\n",
    "\n",
    "seurat_object <- data3\n",
    "meta.col <- \"merge\" \n",
    "group <- unique(data3@meta.data$merge)\n",
    "gene_name <- c(\"PD1\", \"PDL1\")\n",
    "filter_column <- c(\"PDCD1\", \"CD274\") \n",
    "ident <- \"monaco.fine\"\n",
    "\n",
    "# Generate frequency table\n",
    "UC_Rectum_CITEseq_GSE228165 <- frequency_table(seurat_object = seurat_object,\n",
    "                          meta.col = meta.col,\n",
    "                          group = group,\n",
    "                          gene_name = gene_name,\n",
    "                          filter_column = filter_column,\n",
    "                          ident = ident)\n",
    "UC_Rectum_CITEseq_GSE228165 <- UC_Rectum_CITEseq_GSE228165 %>%\n",
    "    separate_wider_delim(Group, \"_\", names = c(\"SubjectID\", \"Group\"))\n",
    "\n",
    "UC_Rectum_CITEseq_GSE228165$Group[UC_Rectum_CITEseq_GSE228165$Group == \"R\"] <- \"Vedolizumab Responder\"\n",
    "UC_Rectum_CITEseq_GSE228165$Group[UC_Rectum_CITEseq_GSE228165$Group == \"N\"] <- \"Vedolizumab Non-responder\""
   ]
  },
  {
   "cell_type": "code",
   "execution_count": 9,
   "metadata": {
    "vscode": {
     "languageId": "r"
    }
   },
   "outputs": [],
   "source": [
    "# Data 4: UC_colon_Tcells_GSE235663\n",
    "## No subject IDs\n",
    "data4 <- get(load(\"data/UC_colon_Tcells_GSE235663_2.Rda\")) \n",
    "\n",
    "seurat_object <- data4\n",
    "meta.col <- \"Group\" \n",
    "group <- c('Normal_Control', 'Inflamed_Active')\n",
    "gene_name <- c(\"PD1\", \"PDL1\")\n",
    "filter_column <- c(\"PDCD1\", \"CD274\") \n",
    "ident <- \"monaco.fine\"\n",
    "\n",
    "# Generate frequency table\n",
    "UC_colon_Tcells_GSE235663 <- frequency_table(seurat_object = seurat_object,\n",
    "                          meta.col = meta.col,\n",
    "                          group = group,\n",
    "                          gene_name = gene_name,\n",
    "                          filter_column = filter_column,\n",
    "                          ident = ident)\n",
    "\n",
    "UC_colon_Tcells_GSE235663$Group[UC_colon_Tcells_GSE235663$Group == \"Inflamed_Active\"] <- \"Inflamed\"\n",
    "UC_colon_Tcells_GSE235663$Group[UC_colon_Tcells_GSE235663$Group == \"Normal_Control\"] <- \"Healthy\""
   ]
  },
  {
   "cell_type": "code",
   "execution_count": 10,
   "metadata": {
    "vscode": {
     "languageId": "r"
    }
   },
   "outputs": [],
   "source": [
    "# Data 5: UC_CD_intestine_AbSeq_GSE218000\n",
    "## No subject IDs\n",
    "data5 <- get(load(\"data/UC_CD_intestine_AbSeq_GSE218000.Rda\"))  \n",
    "\n",
    "seurat_object <- data5\n",
    "meta.col <- \"stim\" \n",
    "group <- c('Control', 'UC')\n",
    "gene_name <- c(\"PD1\", \"PDL1\")\n",
    "filter_column <- c(\"PDCD1\", \"CD274\") \n",
    "ident <- \"monaco.fine\"\n",
    "\n",
    "# Generate frequency table\n",
    "UC_CD_intestine_AbSeq_GSE218000 <- frequency_table(seurat_object = seurat_object,\n",
    "                          meta.col = meta.col,\n",
    "                          group = group,\n",
    "                          gene_name = gene_name,\n",
    "                          filter_column = filter_column,\n",
    "                          ident = ident)\n",
    "\n",
    "UC_CD_intestine_AbSeq_GSE218000$Group[UC_CD_intestine_AbSeq_GSE218000$Group == \"Control\"] <- \"Healthy\"\n",
    "UC_CD_intestine_AbSeq_GSE218000$Group[UC_CD_intestine_AbSeq_GSE218000$Group == \"UC\"] <- \"Inflamed\""
   ]
  },
  {
   "cell_type": "code",
   "execution_count": 11,
   "metadata": {
    "vscode": {
     "languageId": "r"
    }
   },
   "outputs": [],
   "source": [
    "# Data 6: UC_rectum_GSE125527\n",
    "data6 <- get(load(\"data/UC_rectum_GSE125527_2.Rda\")) \n",
    "meta <- data6@meta.data\n",
    "data6@meta.data$merge <- paste(meta$patient_assignment, meta$disease_assignment, sep = \"_\")\n",
    "\n",
    "seurat_object <- data6\n",
    "meta.col <- \"merge\" \n",
    "group <- unique(data6@meta.data$merge)\n",
    "gene_name <- c(\"PD1\")\n",
    "filter_column <- c(\"PDCD1\") # Need to better hand if gene isnt present\n",
    "ident <- \"monaco.fine\"\n",
    "\n",
    "# Generate frequency table\n",
    "UC_rectum_GSE125527 <- frequency_table(seurat_object = seurat_object,\n",
    "                          meta.col = meta.col,\n",
    "                          group = group,\n",
    "                          gene_name = gene_name,\n",
    "                          filter_column = filter_column,\n",
    "                          ident = ident)\n",
    "UC_rectum_GSE125527 <- UC_rectum_GSE125527 %>%\n",
    "    separate_wider_delim(Group, \"_\", names = c(\"SubjectID\", \"Group\"))\n",
    "\n",
    "UC_rectum_GSE125527$Group[UC_rectum_GSE125527$Group == \"diseased\"] <- \"Inflamed\"\n",
    "UC_rectum_GSE125527$Group[UC_rectum_GSE125527$Group == \"healthy\"] <- \"Healthy\""
   ]
  },
  {
   "cell_type": "code",
   "execution_count": 12,
   "metadata": {
    "vscode": {
     "languageId": "r"
    }
   },
   "outputs": [
    {
     "name": "stderr",
     "output_type": "stream",
     "text": [
      "Warning message in value[[3L]](cond):\n",
      "“Error subsetting by meta.col for group: C1_healthy - No cells found”\n",
      "Warning message in value[[3L]](cond):\n",
      "“Error subsetting by meta.col for group: C6_healthy - No cells found”\n",
      "Warning message in value[[3L]](cond):\n",
      "“Error applying filter column: PDCD1 - No cells found”\n",
      "Warning message in value[[3L]](cond):\n",
      "“Error subsetting by meta.col for group: C9_healthy - No cells found”\n"
     ]
    }
   ],
   "source": [
    "# Data 7: UC_PBMC_GSE125527\n",
    "data7 <- get(load(\"data/UC_PBMC_GSE125527_2.Rda\"))  \n",
    "meta <- data7@meta.data\n",
    "data7@meta.data$merge <- paste(meta$patient_assignment, meta$disease_assignment, sep = \"_\")\n",
    "\n",
    "\n",
    "seurat_object <- data7\n",
    "meta.col <- \"merge\"\n",
    "group <- unique(data6@meta.data$merge)\n",
    "gene_name <- c(\"PD1\")\n",
    "filter_column <- c(\"PDCD1\") \n",
    "ident <- \"monaco.fine\"\n",
    "\n",
    "# Generate frequency table\n",
    "UC_PBMC_GSE125527 <- frequency_table(seurat_object = seurat_object,\n",
    "                          meta.col = meta.col,\n",
    "                          group = group,\n",
    "                          gene_name = gene_name,\n",
    "                          filter_column = filter_column,\n",
    "                          ident = ident)\n",
    "UC_PBMC_GSE125527 <- UC_PBMC_GSE125527 %>%\n",
    "    separate_wider_delim(Group, \"_\", names = c(\"SubjectID\", \"Group\"))\n",
    "\n",
    "UC_PBMC_GSE125527$Group[UC_PBMC_GSE125527$Group == \"diseased\"] <- \"Inflamed\"\n",
    "UC_PBMC_GSE125527$Group[UC_PBMC_GSE125527$Group == \"healthy\"] <- \"Healthy\""
   ]
  },
  {
   "cell_type": "code",
   "execution_count": 13,
   "metadata": {
    "vscode": {
     "languageId": "r"
    }
   },
   "outputs": [],
   "source": [
    "names <- list(\n",
    "    \"UC Colon SCP259\" = UC_colon_Imm_scRNAseq_SCP259,\n",
    "    \"UC Colon GSE189754\" = GSE189754_UC_Colon,\n",
    "    \"UC Colon GSE235663\" = UC_colon_Tcells_GSE235663,\n",
    "    \"UC Rectum GSE228165\" = UC_Rectum_CITEseq_GSE228165,\n",
    "    \"UC Rectum GSE125527\" = UC_rectum_GSE125527,\n",
    "    \"UC PBMC GSE228165\" = UC_PBMC_CITEseq_GSE228165,\n",
    "    \"UC PBMC GSE125527\" = UC_PBMC_GSE125527,\n",
    "    \"UC Intestine GSE218000\" = UC_CD_intestine_AbSeq_GSE218000\n",
    ")\n",
    "write.xlsx(names, file = 'data.xlsx')"
   ]
  },
  {
   "cell_type": "code",
   "execution_count": 14,
   "metadata": {
    "vscode": {
     "languageId": "r"
    }
   },
   "outputs": [
    {
     "data": {
      "text/plain": [
       "R version 4.3.3 (2024-02-29)\n",
       "Platform: x86_64-conda-linux-gnu (64-bit)\n",
       "Running under: Ubuntu 22.04.4 LTS\n",
       "\n",
       "Matrix products: default\n",
       "BLAS/LAPACK: /home/nsiegel/miniforge3/envs/singlecell/lib/libopenblasp-r0.3.27.so;  LAPACK version 3.12.0\n",
       "\n",
       "locale:\n",
       " [1] LC_CTYPE=en_US.UTF-8       LC_NUMERIC=C              \n",
       " [3] LC_TIME=en_US.UTF-8        LC_COLLATE=en_US.UTF-8    \n",
       " [5] LC_MONETARY=en_US.UTF-8    LC_MESSAGES=en_US.UTF-8   \n",
       " [7] LC_PAPER=en_US.UTF-8       LC_NAME=C                 \n",
       " [9] LC_ADDRESS=C               LC_TELEPHONE=C            \n",
       "[11] LC_MEASUREMENT=en_US.UTF-8 LC_IDENTIFICATION=C       \n",
       "\n",
       "time zone: Etc/UTC\n",
       "tzcode source: system (glibc)\n",
       "\n",
       "attached base packages:\n",
       "[1] stats     graphics  grDevices utils     datasets  methods   base     \n",
       "\n",
       "other attached packages:\n",
       "[1] rlang_1.1.4        openxlsx_4.2.6.1   tidyr_1.3.1        dplyr_1.1.4       \n",
       "[5] Seurat_5.0.3       SeuratObject_5.0.1 sp_2.1-4          \n",
       "\n",
       "loaded via a namespace (and not attached):\n",
       "  [1] deldir_2.0-4           pbapply_1.7-2          gridExtra_2.3         \n",
       "  [4] magrittr_2.0.3         RcppAnnoy_0.0.22       spatstat.geom_3.2-9   \n",
       "  [7] matrixStats_1.3.0      ggridges_0.5.6         compiler_4.3.3        \n",
       " [10] png_0.1-8              vctrs_0.6.5            reshape2_1.4.4        \n",
       " [13] stringr_1.5.1          pkgconfig_2.0.3        crayon_1.5.3          \n",
       " [16] fastmap_1.2.0          utf8_1.2.4             promises_1.3.0        \n",
       " [19] purrr_1.0.2            jsonlite_1.8.8         goftest_1.2-3         \n",
       " [22] later_1.3.2            uuid_1.2-0             spatstat.utils_3.0-4  \n",
       " [25] irlba_2.3.5.1          parallel_4.3.3         cluster_2.1.6         \n",
       " [28] R6_2.5.1               ica_1.0-3              stringi_1.8.3         \n",
       " [31] RColorBrewer_1.1-3     spatstat.data_3.0-4    reticulate_1.38.0     \n",
       " [34] parallelly_1.37.1      lmtest_0.9-40          scattermore_1.2       \n",
       " [37] Rcpp_1.0.12            IRkernel_1.3.2         tensor_1.5            \n",
       " [40] future.apply_1.11.2    zoo_1.8-12             base64enc_0.1-3       \n",
       " [43] sctransform_0.4.1      httpuv_1.6.15          Matrix_1.6-5          \n",
       " [46] splines_4.3.3          igraph_2.0.2           tidyselect_1.2.1      \n",
       " [49] abind_1.4-5            spatstat.random_3.2-3  codetools_0.2-20      \n",
       " [52] miniUI_0.1.1.1         spatstat.explore_3.2-6 listenv_0.9.1         \n",
       " [55] lattice_0.22-6         tibble_3.2.1           plyr_1.8.9            \n",
       " [58] withr_3.0.0            shiny_1.8.1.1          ROCR_1.0-11           \n",
       " [61] evaluate_0.24.0        Rtsne_0.17             future_1.33.2         \n",
       " [64] fastDummies_1.7.3      survival_3.5-8         polyclip_1.10-6       \n",
       " [67] zip_2.3.1              fitdistrplus_1.1-11    pillar_1.9.0          \n",
       " [70] KernSmooth_2.23-22     plotly_4.10.4          generics_0.1.3        \n",
       " [73] RcppHNSW_0.6.0         IRdisplay_1.1          ggplot2_3.5.1         \n",
       " [76] munsell_0.5.1          scales_1.3.0           globals_0.16.3        \n",
       " [79] xtable_1.8-4           glue_1.7.0             lazyeval_0.2.2        \n",
       " [82] tools_4.3.3            data.table_1.15.4      RSpectra_0.16-1       \n",
       " [85] pbdZMQ_0.3-11          RANN_2.6.1             leiden_0.4.3.1        \n",
       " [88] dotCall64_1.1-1        cowplot_1.1.3          grid_4.3.3            \n",
       " [91] colorspace_2.1-0       nlme_3.1-164           patchwork_1.2.0       \n",
       " [94] repr_1.1.7             cli_3.6.3              spatstat.sparse_3.0-3 \n",
       " [97] spam_2.10-0            fansi_1.0.6            viridisLite_0.4.2     \n",
       "[100] uwot_0.1.16            gtable_0.3.5           digest_0.6.36         \n",
       "[103] progressr_0.14.0       ggrepel_0.9.5          htmlwidgets_1.6.4     \n",
       "[106] htmltools_0.5.8.1      lifecycle_1.0.4        httr_1.4.7            \n",
       "[109] mime_0.12              MASS_7.3-60           "
      ]
     },
     "metadata": {},
     "output_type": "display_data"
    }
   ],
   "source": [
    "sessionInfo()"
   ]
  }
 ],
 "metadata": {
  "kernelspec": {
   "display_name": "R",
   "language": "R",
   "name": "ir"
  },
  "language_info": {
   "codemirror_mode": "r",
   "file_extension": ".r",
   "mimetype": "text/x-r-source",
   "name": "R",
   "pygments_lexer": "r",
   "version": "4.3.3"
  }
 },
 "nbformat": 4,
 "nbformat_minor": 2
}
